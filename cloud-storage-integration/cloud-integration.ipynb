{
 "cells": [
  {
   "cell_type": "code",
   "execution_count": 2,
   "metadata": {},
   "outputs": [],
   "source": [
    "# Imports\n",
    "from aws_snowflake_config import aws_s3_connection, snowflake_connection\n",
    "import logging\n",
    "from botocore.exceptions import ClientError\n",
    "import os"
   ]
  },
  {
   "cell_type": "code",
   "execution_count": 5,
   "metadata": {},
   "outputs": [
    {
     "name": "stdout",
     "output_type": "stream",
     "text": [
      "\n",
      " CSV_Data files:\n",
      "['scraped_data.csv']\n",
      "File uploaded successfully: ../web-scraping-and-dataset/scraped_data.csv -> s3://bigdata-group3-assignment2/CSV_Data/scraped_data.csv\n",
      "\n",
      " PyPDF files:\n",
      "['PyPDF_RR_2024_l1_combined.txt', 'PyPDF_RR_2024_l2_combined.txt', 'PyPDF_RR_2024_l3_combined.txt']\n",
      "File uploaded successfully: ../pdf-extractions/pypdf\\PyPDF_RR_2024_l1_combined.txt -> s3://bigdata-group3-assignment2/PyPDF/PyPDF_RR_2024_l1_combined.txt\n",
      "File uploaded successfully: ../pdf-extractions/pypdf\\PyPDF_RR_2024_l2_combined.txt -> s3://bigdata-group3-assignment2/PyPDF/PyPDF_RR_2024_l2_combined.txt\n",
      "File uploaded successfully: ../pdf-extractions/pypdf\\PyPDF_RR_2024_l3_combined.txt -> s3://bigdata-group3-assignment2/PyPDF/PyPDF_RR_2024_l3_combined.txt\n",
      "\n",
      " Grobid files:\n",
      "[]\n",
      "No files found in the ../pdf-extractions/grobid directory.\n"
     ]
    }
   ],
   "source": [
    "s3_client, bucket_name = aws_s3_connection()\n",
    "\n",
    "# Get a list of all the files with the extension in the directory_path\n",
    "def get_files_in_directory(directory_path, extension):\n",
    "    files=[]\n",
    "    for f in os.listdir(directory_path):\n",
    "        if f.endswith(extension):\n",
    "            files.append(f)\n",
    "    return files\n",
    "\n",
    "# Function  to upload the file of type extension to S3 bucket\n",
    "def upload_file_to_s3(file_path, type, extension):\n",
    "    try:\n",
    "        # Fetching all files in the directory with the given extension\n",
    "        list_of_files = get_files_in_directory(file_path,extension)\n",
    "        print(\"\\n\",type.rstrip(\"/\"),\"files:\",)\n",
    "        print(list_of_files)\n",
    "        \n",
    "        # Upload if files exist\n",
    "        if list_of_files:\n",
    "            for file in list_of_files:\n",
    "                try:\n",
    "                    file_full_path=os.path.join(file_path, file)    # file path in local directory\n",
    "                    key_value = type + file   # file path in S3 bucket\n",
    "                    \n",
    "                    # Upload the file to S3 using boto3\n",
    "                    response = s3_client.upload_file(file_full_path, bucket_name, key_value)\n",
    "                    print(f'File uploaded successfully: {file_full_path} -> s3://{bucket_name}/{key_value}')\n",
    "                except ClientError as e:\n",
    "                    logging.error(e)\n",
    "        else:\n",
    "            print(f'No files found in the {file_path} directory.')\n",
    "    except Exception as e:\n",
    "        print(f'Error uploading file {file_path}: {e}')\n",
    "\n",
    "upload_file_to_s3('../web-scraping-and-dataset/','CSV_Data/','.csv')\n",
    "upload_file_to_s3('../pdf-extractions/pypdf','PyPDF/','.txt')\n",
    "upload_file_to_s3('../pdf-extractions/grobid','Grobid/','.txt')\n"
   ]
  }
 ],
 "metadata": {
  "kernelspec": {
   "display_name": "venv",
   "language": "python",
   "name": "python3"
  },
  "language_info": {
   "codemirror_mode": {
    "name": "ipython",
    "version": 3
   },
   "file_extension": ".py",
   "mimetype": "text/x-python",
   "name": "python",
   "nbconvert_exporter": "python",
   "pygments_lexer": "ipython3",
   "version": "3.11.5"
  }
 },
 "nbformat": 4,
 "nbformat_minor": 2
}
