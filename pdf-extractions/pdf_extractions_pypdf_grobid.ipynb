{
 "cells": [
  {
   "cell_type": "markdown",
   "metadata": {},
   "source": [
    "### PDF EXTRACTION USING PyPDF2"
   ]
  },
  {
   "cell_type": "code",
   "execution_count": 145,
   "metadata": {},
   "outputs": [],
   "source": [
    "from PyPDF2 import PdfReader\n",
    "import os\n",
    "\n",
    "# Change the path below to the correct path for your computer.\n",
    "pdf_dir = './input-files/'\n",
    "pdf_files = [f for f in os.listdir(pdf_dir) if f.endswith('.pdf')]"
   ]
  },
  {
   "cell_type": "code",
   "execution_count": 146,
   "metadata": {},
   "outputs": [],
   "source": [
    "def pypdf_extraction (pdf_files: list):\n",
    "\n",
    "    # Define the directory where output files will be saved\n",
    "    output_directory = './pypdf/'\n",
    "\n",
    "    # Iterate over each PDF file\n",
    "    for pdf_file in pdf_files:\n",
    "        try:\n",
    "\n",
    "            # Extract year and level from the file name\n",
    "            parts = pdf_file.split('-')\n",
    "            year = parts[0]\n",
    "            level = parts[1]\n",
    "\n",
    "            # Construct full path to PDF file\n",
    "            pdf_path = os.path.join(pdf_dir, pdf_file)\n",
    "\n",
    "            # Open the PDF file\n",
    "            with open(pdf_path, 'rb') as file:\n",
    "                reader = PdfReader(file)\n",
    "                # Initialize a variable to store the extracted text\n",
    "                extracted_text = \"\"\n",
    "\n",
    "                # Extract metadata\n",
    "                metadata = reader.metadata\n",
    "                title = metadata.get('/Title', 'Unknown Title')\n",
    "                total_pages = len(reader.pages)\n",
    "\n",
    "                # Initialize a variable to store the extracted text including metadata\n",
    "                extracted_text = f\"Title: {title}\\nTotal Pages: {total_pages}\\n\\n\"\n",
    "\n",
    "                # Extract text from each page\n",
    "                for page in reader.pages:\n",
    "\n",
    "                    text = page.extract_text() if page.extract_text() else ''\n",
    "                    extracted_text += text + \"\\n\"\n",
    "\n",
    "                # Define the output text file name based on the year and level\n",
    "                text_file_name = f\"PyPDF_RR_{year}_{level}_combined.txt\"\n",
    "                output_path = os.path.join(output_directory, text_file_name)\n",
    "\n",
    "                # Save the extracted text to a text file\n",
    "                with open(output_path, 'w', encoding='utf-8') as text_file:\n",
    "                    text_file.write(extracted_text)\n",
    "\n",
    "                print(f\"Extracted text from {pdf_file} to {output_path}\")\n",
    "\n",
    "        except FileNotFoundError:\n",
    "            print(f\"File {pdf_file} not found in {pdf_dir}.\")\n",
    "        except PermissionError:\n",
    "            print(f\"Permission denied to access or write to file {pdf_file}.\")\n",
    "        except Exception as e:\n",
    "            print(f\"An error occurred while processing {pdf_file}: {e}\")\n",
    "\n",
    "    return extracted_text"
   ]
  },
  {
   "cell_type": "code",
   "execution_count": 147,
   "metadata": {},
   "outputs": [
    {
     "name": "stdout",
     "output_type": "stream",
     "text": [
      "Extracted text from 2024-l3-topics-combined-2.pdf to ./pypdf/PyPDF_RR_2024_l3_combined.txt\n",
      "Extracted text from 2024-l1-topics-combined-2.pdf to ./pypdf/PyPDF_RR_2024_l1_combined.txt\n",
      "Extracted text from 2024-l2-topics-combined-2.pdf to ./pypdf/PyPDF_RR_2024_l2_combined.txt\n"
     ]
    },
    {
     "data": {
      "text/plain": [
       "'Title: Unknown Title\\nTotal Pages: 25\\n\\nQuantitative Methods\\nLEARNING OUTCOMES\\nBasics of Multiple Regression and Underlying Assumptions\\nThe candidate should be able to:□\\tdescribe the types of investment problems addressed by multiple linear \\nregression and the regression process\\n□\\tformulate a multiple linear regression model, describe the relation between the dependent variable and several independent variables, and interpret estimated regression coefficients\\n□\\texplain the assumptions underlying a multiple linear regression model and interpret residual plots indicating potential violations of these assumptions\\nEvaluating Regression Model Fit and Interpreting Model Results\\nThe candidate should be able to:□\\tevaluate how well a multiple regression model explains the dependent variable \\nby analyzing ANOVA table results and measures of goodness of fit\\n□\\tformulate hypotheses on the significance of two or more coefficients in a multiple regression model and interpret the results of the joint hypothesis tests\\n□\\tcalculate and interpret a predicted value for the dependent variable, given the estimated regression model and assumed values for the independent variable\\nModel Misspecification\\nThe candidate should be able to:□\\tdescribe how model misspecification affects the results of a regression analysis \\nand how to avoid common forms of misspecification2024 Level II Topic Outlines\\n© CFA Institute. For candidate use only. Not for distribution.\\nQuantitative Methods 2\\n□\\texplain the types of heteroskedasticity and how it affects statistical inference\\n□\\texplain serial correlation and how it affects statistical inference\\n□\\texplain multicollinearity and how it affects regression analysis\\nExtensions of Multiple Regression\\nThe candidate should be able to:□\\tdescribe influence analysis and methods of detecting influential data points\\n□\\tformulate and interpret a multiple regression model that includes qualitative \\nindependent variables\\n□\\tformulate and interpret a logistic regression model\\nTime-Series Analysis\\nThe candidate should be able to:□\\tcalculate and evaluate the predicted trend value for a time series, modeled as \\neither a linear trend or a log-linear trend, given the estimated trend coefficients\\n□\\tdescribe factors that determine whether a linear or a log-linear trend should be used with a particular time series and evaluate limitations of trend models\\n□\\texplain the requirement for a time series to be covariance stationary and describe the significance of a series that is not stationary\\n□\\tdescribe the structure of an autoregressive (AR) model of order p and calculate one- and two-period-ahead forecasts given the estimated coefficients\\n□\\texplain how autocorrelations of the residuals can be used to test whether the autoregressive model fits the time series\\n□\\texplain mean reversion and calculate a mean-reverting level\\n□\\tcontrast in-sample and out-of-sample forecasts and compare the forecasting accuracy of different time-series models based on the root mean squared error criterion\\n□\\texplain the instability of coefficients of time-series models\\n□\\tdescribe characteristics of random walk processes and contrast them to covariance stationary processes\\n□\\tdescribe implications of unit roots for time-series analysis, explain when unit roots are likely to occur and how to test for them, and demonstrate how a time series with a unit root can be transformed so it can be analyzed with an AR model\\n□\\tdescribe the steps of the unit root test for nonstationarity and explain the relation of the test to autoregressive time-series models\\n□\\texplain how to test and correct for seasonality in a time-series model and calculate and interpret a forecasted value using an AR model with a seasonal lag\\n□\\texplain autoregressive conditional heteroskedasticity (ARCH) and describe how ARCH models can be applied to predict the variance of a time series\\n□\\texplain how time-series variables should be analyzed for nonstationarity and/or cointegration before use in a linear regression\\n□\\tdetermine an appropriate time-series model to analyze a given investment problem and justify that choice\\nMachine Learning\\nThe candidate should be able to:□\\tdescribe supervised machine learning, unsupervised machine learning, and deep \\nlearning\\n□\\tdescribe overfitting and identify methods of addressing it\\n© CFA Institute. For candidate use only. Not for distribution.\\n3 Quantitative Methods\\n□\\tdescribe supervised machine learning algorithms—including penalized \\nregression, support vector machine, k-nearest neighbor, classification and regression tree, ensemble learning, and random forest—and determine the problems for which they are best suited\\n□\\tdescribe unsupervised machine learning algorithms—including principal components analysis, k-means clustering, and hierarchical clustering—and determine the problems for which they are best suited\\n□\\tdescribe neural networks, deep learning nets, and reinforcement learning\\nBig Data Projects\\nThe candidate should be able to:□\\tidentify and explain steps in a data analysis project\\n□\\tdescribe objectives, steps, and examples of preparing and wrangling data\\n□\\tevaluate the fit of a machine learning algorithm\\n□\\tdescribe objectives, methods, and examples of data exploration\\n□\\tdescribe methods for extracting, selecting and engineering features from textual \\ndata\\n□\\tdescribe objectives, steps, and techniques in model training\\n□\\tdescribe preparing, wrangling, and exploring text-based data for financial forecasting\\n© CFA Institute. For candidate use only. Not for distribution.\\nEconomics\\nLEARNING OUTCOMES\\nCurrency Exchange Rates: Understanding Equilibrium Value\\nThe candidate should be able to:□\\tcalculate and interpret the bid–offer spread on a spot or forward currency \\nquotation and describe the factors that affect the bid–offer spread \\n□\\tidentify a triangular arbitrage opportunity and calculate its profit, given the bid–offer quotations for three currencies\\n□\\texplain spot and forward rates and calculate the forward premium/discount for a given currency\\n□\\tcalculate the mark-to-market value of a forward contract \\n□\\texplain international parity conditions (covered and uncovered interest rate parity, forward rate parity, purchasing power parity, and the international Fisher effect)\\n□\\tdescribe relations among the international parity conditions\\n□\\tevaluate the use of the current spot rate, the forward rate, purchasing power parity, and uncovered interest parity to forecast future spot exchange rates\\n□\\texplain approaches to assessing the long-run fair value of an exchange rate\\n□\\tdescribe the carry trade and its relation to uncovered interest rate parity and calculate the profit from a carry trade\\n□\\texplain how flows in the balance of payment accounts affect currency exchange rates\\n□\\texplain the potential effects of monetary and fiscal policy on exchange rates\\n□\\tdescribe objectives of central bank or government intervention and capital controls and describe the effectiveness of intervention and capital controls\\n□\\tdescribe warning signs of a currency crisis\\n© CFA Institute. For candidate use only. Not for distribution.\\n5 Economics\\nEconomic Growth\\nThe candidate should be able to:□\\tcompare factors favoring and limiting economic growth in developed and \\ndeveloping economies \\n□\\tdescribe the relation between the long-run rate of stock market appreciation and the sustainable growth rate of the economy\\n□\\texplain why potential GDP and its growth rate matter for equity and fixed income investors\\n□\\tcontrast capital deepening investment and technological progress and explain how each affects economic growth and labor productivity\\n□\\tdemonstrate forecasting potential GDP based on growth accounting relations\\n□\\texplain how natural resources affect economic growth and evaluate the argument that limited availability of natural resources constrains economic growth\\n□\\texplain how demographics, immigration, and labor force participation affect the rate and sustainability of economic growth\\n□\\texplain how investment in physical capital, human capital, and technological development affects economic growth\\n□\\tcompare classical growth theory, neoclassical growth theory, and endogenous growth theory\\n□\\texplain and evaluate convergence hypotheses\\n□\\tdescribe the economic rationale for governments to provide incentives to private investment in technology and knowledge\\n□\\tdescribe the expected impact of removing trade barriers on capital investment and profits, employment and wages, and growth in the economies involved\\nEconomics of Regulation\\nThe candidate should be able to:□\\tdescribe the economic rationale for regulatory intervention\\n□\\texplain the purposes of regulating commerce and financial markets\\n□\\tdescribe anticompetitive behaviors targeted by antitrust laws globally and \\nevaluate the antitrust risk associated with a given business strategy\\n□\\tdescribe classifications of regulations and regulators\\n□\\tdescribe uses of self-regulation in financial markets\\n□\\tdescribe regulatory interdependencies and their effects\\n□\\tdescribe tools of regulatory intervention in markets\\n□\\tdescribe benefits and costs of regulation\\n□\\tdescribe the considerations when evaluating the effects of regulation on an industry\\n© CFA Institute. For candidate use only. Not for distribution.\\nFinancial Statement \\nAnalysis\\nLEARNING OUTCOMES\\nIntercorporate Investments\\nThe candidate should be able to:□\\tdescribe the classification, measurement, and disclosure under International \\nFinancial Reporting Standards (IFRS) for 1) investments in financial assets, 2) investments in associates, 3) joint ventures, 4) business combinations, and 5) special purpose and variable interest entities\\n□\\tcompare and contrast  IFRS and US GAAP in their classification, measurement, and disclosure of investments in financial assets, investments in associates, joint ventures, business combinations, and special purpose and variable interest entities\\n□\\tanalyze how different methods used to account for intercorporate investments affect financial statements and ratios\\nEmployee Compensation: Post-Employment and Share-Based\\nThe candidate should be able to:□\\tcontrast types of employee compensation\\n□\\texplain how share-based compensation affects the financial statements\\n□\\texplain how to forecast share-based compensation expense and shares \\noutstanding in a financial statement model and their use in valuation\\n□\\texplain how post-employment benefits affect the financial statements\\n□\\texplain financial modeling and valuation considerations for post-employment benefits\\n© CFA Institute. For candidate use only. Not for distribution.\\n7 Financial Statement Analysis\\nMultinational Operations\\nThe candidate should be able to:□\\tcompare and contrast presentation in (reporting) currency, functional currency, \\nand local currency\\n□\\tdescribe foreign currency transaction exposure, including accounting for and disclosures about foreign currency transaction gains and losses\\n□\\tanalyze how changes in exchange rates affect the translated sales of the subsidiary and parent company\\n□\\tcompare the current rate method and the temporal method, evaluate how each affects the parent company’s balance sheet and income statement, and determine which method is appropriate in various scenarios\\n□\\tcalculate the translation effects and evaluate the translation of a subsidiary’s balance sheet and income statement into the parent company’s presentation currency\\n□\\tanalyze how the current rate method and the temporal method affect financial statements and ratios\\n□\\tanalyze how alternative translation methods for subsidiaries operating in hyperinflationary economies affect financial statements and ratios\\n□\\tdescribe how multinational operations affect a company’s effective tax rate\\n□\\texplain how changes in the components of sales affect the sustainability of sales growth\\n□\\tanalyze how currency fluctuations potentially affect financial results, given a company’s countries of operation\\nAnalysis of Financial Institutions\\nThe candidate should be able to:□\\tdescribe how financial institutions differ from other companies\\n□\\tdescribe key aspects of financial regulations of financial institutions\\n□\\texplain the CAMELS (capital adequacy, asset quality, management, earnings, \\nliquidity, and sensitivity) approach to analyzing a bank, including key ratios and its limitations\\n□\\tanalyze a bank based on financial statements and other factors\\n□\\tdescribe other factors to consider in analyzing a bank\\n□\\tdescribe key ratios and other factors to consider in analyzing an insurance company\\nEvaluating Quality of Financial Reports\\nThe candidate should be able to:□\\tdemonstrate the use of a conceptual framework for assessing the quality of a \\ncompany’s financial reports\\n□\\texplain potential problems that affect the quality of financial reports\\n□\\tdescribe how to evaluate the quality of a company’s financial reports\\n□\\tevaluate the quality of a company’s financial reports\\n□\\tdescribe indicators of earnings quality\\n□\\tdescribe the concept of sustainable (persistent) earnings\\n□\\texplain mean reversion in earnings and how the accruals component of earnings affects the speed of mean reversion\\n□\\tevaluate the earnings quality of a company\\n□\\tevaluate the cash flow quality of a company\\n□\\tdescribe indicators of balance sheet quality\\n□\\tevaluate the balance sheet quality of a company\\n□\\tdescribe indicators of cash flow quality\\n□\\tdescribe sources of information about risk\\n© CFA Institute. For candidate use only. Not for distribution.\\nFinancial Statement Analysis 8\\nIntegration of Financial Statement Analysis Techniques\\nThe candidate should be able to:□\\tdemonstrate the use of a framework for the analysis of financial statements, \\ngiven a particular problem, question, or purpose (e.g., valuing equity based on comparables, critiquing a credit rating, obtaining a comprehensive picture of financial leverage, evaluating the perspectives given in management’s discussion of financial results)\\n□\\tidentify financial reporting choices and biases that affect the quality and comparability of companies’ financial statements and explain how such biases may affect financial decisions\\n□\\tevaluate the quality of a company’s financial data and recommend appropriate adjustments to improve quality and comparability with similar companies, including adjustments for differences in accounting standards, methods, and assumptions\\n□\\tevaluate how a given change in accounting standards, methods, or assumptions affects financial statements and ratios\\n□\\tanalyze and interpret how balance sheet modifications, earnings normalization, and cash flow statement related modifications affect a company’s financial statements, financial ratios, and overall financial condition\\nFinancial Statement Modeling\\nThe candidate should be able to:□\\tcompare top-down, bottom-up, and hybrid approaches for developing inputs to \\nequity valuation models \\n□\\tcompare “growth relative to GDP growth” and “market growth and market share” approaches to forecasting revenue\\n□\\tevaluate whether economies of scale are present in an industry by analyzing operating margins and sales levels\\n□\\tdemonstrate methods to forecast cost of goods sold and operating expenses\\n□\\tdemonstrate methods to forecast non-operating items, financing costs, and income taxes\\n□\\tdescribe approaches to balance sheet modeling\\n□\\tdemonstrate the development of a sales-based pro forma company model \\n□\\texplain how behavioral factors affect analyst forecasts and recommend remedial actions for analyst biases\\n□\\texplain how competitive factors affect prices and costs\\n□\\tevaluate the competitive position of a company based on a Porter’s five forces analysis\\n□\\texplain how to forecast industry and company sales and costs when they are subject to price inflation or deflation\\n□\\tevaluate the effects of technological developments on demand, selling prices, costs, and margins\\n□\\texplain considerations in the choice of an explicit forecast horizon\\n□\\texplain an analyst’s choices in developing projections beyond the short-term forecast horizon\\n© CFA Institute. For candidate use only. Not for distribution.\\nCorporate Issuers\\nLEARNING OUTCOMES\\nAnalysis of Dividends and Share Repurchases\\nThe candidate should be able to:□\\tdescribe the expected effect of regular cash dividends, extra dividends, \\nliquidating dividends, stock dividends, stock splits, and reverse stock splits on shareholders’ wealth and a company’s financial ratios\\n□\\tcompare theories of dividend policy and explain implications of each for share value given a description of a corporate dividend action\\n□\\tdescribe types of information (signals) that dividend initiations, increases, decreases, and omissions may convey\\n□\\texplain how agency costs may affect a company’s payout policy\\n□\\texplain factors that affect dividend policy in practice\\n□\\tcalculate and interpret the effective tax rate on a given currency unit of corporate earnings under double taxation, dividend imputation, and split-rate tax systems\\n□\\tcompare stable dividend with constant dividend payout ratio, and calculate the dividend under each policy\\n□\\tdescribe broad trends in corporate payout policies\\n□\\tcompare share repurchase methods\\n□\\tcalculate and compare the effect of a share repurchase on earnings per share when 1) the repurchase is financed with the company’s surplus cash and 2) the company uses debt to finance the repurchase\\n□\\tcalculate the effect of a share repurchase on book value per share\\n□\\texplain the choice between paying cash dividends and repurchasing shares\\n□\\tcalculate and interpret dividend coverage ratios based on 1) net income and 2) free cash flow\\n© CFA Institute. For candidate use only. Not for distribution.\\nCorporate Issuers 10\\n□\\tidentify characteristics of companies that may not be able to sustain their cash \\ndividend\\nEnvironmental, Social, and Governance (ESG) \\nConsiderations in Investment Analysis\\nThe candidate should be able to:□\\tdescribe global variations in ownership structures and the possible effects of \\nthese variations on corporate governance policies and practices\\n□\\tevaluate the effectiveness of a company’s corporate governance policies and practices\\n□\\tdescribe how ESG-related risk exposures and investment opportunities may be identified and evaluated\\n□\\tevaluate ESG risk exposures and investment opportunities related to a company\\nCost of Capital: Advanced Topics\\nThe candidate should be able to:□\\texplain top-down and bottom-up factors that impact the cost of capital\\n□\\tCompare methods used to estimate the cost of debt.\\n□\\texplain historical and forward-looking approaches to estimating an equity risk \\npremium\\n□\\tcompare methods used to estimate the required return on equity\\n□\\testimate the cost of debt or required return on equity for a public company and a private company\\n□\\tevaluate a company’s capital structure and cost of capital relative to peers\\nCorporate Restructuring\\nThe candidate should be able to:□\\texplain types of corporate restructurings and issuers’ motivations for pursuing \\nthem\\n□\\texplain the initial evaluation of a corporate restructuring\\n□\\tdemonstrate valuation methods for, and interpret valuations of, companies involved in corporate restructurings\\n□\\tdemonstrate how corporate restructurings affect an issuer’s EPS, net debt to EBITDA ratio, and weighted average cost of capital\\n□\\tevaluate corporate investment actions, including equity investments, joint ventures, and acquisitions \\n□\\tevaluate corporate divestment actions, including sales and spin offs\\n□\\tevaluate cost and balance sheet restructurings\\n© CFA Institute. For candidate use only. Not for distribution.\\nEquity Valuation\\nLEARNING OUTCOMES\\nEquity Valuation: Applications and Processes\\nThe candidate should be able to:□\\tdefine valuation and intrinsic value and explain sources of perceived mispricing\\n□\\texplain the going concern assumption and contrast a going concern value to a \\nliquidation value\\n□\\tdescribe definitions of value and justify which definition of value is most relevant to public company valuation\\n□\\tdescribe applications of equity valuation\\n□\\tdescribe questions that should be addressed in conducting an industry and competitive analysis\\n□\\tcontrast absolute and relative valuation models and describe examples of each type of model\\n□\\tdescribe sum-of-the-parts valuation and conglomerate discounts\\n□\\texplain broad criteria for choosing an appropriate approach for valuing a given company\\nDiscounted Dividend Valuation\\nThe candidate should be able to:□\\tcompare dividends, free cash flow, and residual income as inputs to discounted \\ncash flow models and identify investment situations for which each measure is suitable\\n□\\tcalculate and interpret the value of a common stock using the dividend discount model (DDM) for single and multiple holding periods\\n© CFA Institute. For candidate use only. Not for distribution.\\nEquity Valuation 12\\n□\\tcalculate the value of a common stock using the Gordon growth model and \\nexplain the model’s underlying assumptions\\n□\\tcalculate the value of non-callable fixed-rate perpetual preferred stock\\n□\\tdescribe strengths and limitations of the Gordon growth model and justify its selection to value a company’s common shares\\n□\\tcalculate and interpret the implied growth rate of dividends using the Gordon growth model and current stock price\\n□\\tcalculate and interpret the present value of growth opportunities (PVGO) and the component of the leading price-to-earnings ratio (P/E) related to PVGO\\n□\\tcalculate and interpret the justified leading and trailing P/Es using the Gordon growth model\\n□\\testimate a required return based on any DDM, including the Gordon growth model and the H-model\\n□\\tevaluate whether a stock is overvalued, fairly valued, or undervalued by the market based on a DDM estimate of value\\n□\\texplain the growth phase, transition phase, and maturity phase of a business\\n□\\texplain the assumptions and justify the selection of the two-stage DDM, the H-model, the three-stage DDM, or spreadsheet modeling to value a company’s common shares\\n□\\tdescribe terminal value and explain alternative approaches to determining the terminal value in a DDM\\n□\\tcalculate and interpret the value of common shares using the two-stage DDM, the H-model, and the three-stage DDM\\n□\\texplain the use of spreadsheet modeling to forecast dividends and to value common shares\\n□\\tcalculate and interpret the sustainable growth rate of a company and demonstrate the use of DuPont analysis to estimate a company’s sustainable growth rate\\nFree Cash Flow Valuation\\nThe candidate should be able to:□\\tcompare the free cash flow to the firm (FCFF) and free cash flow to equity \\n(FCFE) approaches to valuation\\n□\\texplain the ownership perspective implicit in the FCFE approach\\n□\\texplain the appropriate adjustments to net income, earnings before interest and taxes (EBIT), earnings before interest, taxes, depreciation, and amortization (EBITDA), and cash flow from operations (CFO) to calculate FCFF and FCFE\\n□\\tcalculate FCFF and FCFE\\n□\\tdescribe approaches for forecasting FCFF and FCFE\\n□\\texplain how dividends, share repurchases, share issues, and changes in leverage may affect future FCFF and FCFE\\n□\\tcompare the FCFE model and dividend discount models\\n□\\tevaluate the use of net income and EBITDA as proxies for cash flow in valuation\\n□\\texplain the use of sensitivity analysis in FCFF and FCFE valuations\\n□\\texplain the single-stage (stable-growth), two-stage, and three-stage FCFF and FCFE models and justify the selection of the appropriate model given a company’s characteristics\\n□\\testimate a company’s value using the appropriate free cash flow model(s)\\n□\\tdescribe approaches for calculating the terminal value in a multistage valuation model; and\\n□\\tevaluate whether a stock is overvalued, fairly valued, or undervalued based on a free cash flow valuation model\\n© CFA Institute. For candidate use only. Not for distribution.\\n13 Equity Valuation\\nMarket-Based Valuation: Price and Enterprise Value Multiples\\nThe candidate should be able to:□\\tcontrast the method of comparables and the method based on forecasted \\nfundamentals as approaches to using price multiples in valuation and explain economic rationales for each approach\\n□\\tcalculate and interpret a justified price multiple\\n□\\tdescribe rationales for and possible drawbacks to using alternative price multiples and dividend yield in valuation\\n□\\tcalculate and interpret alternative price multiples and dividend yield\\n□\\tcalculate and interpret underlying earnings, explain methods of normalizing earnings per share (EPS), and calculate normalized EPS\\n□\\texplain and justify the use of earnings yield (E/P)\\n□\\tdescribe fundamental factors that influence alternative price multiples and dividend yield\\n□\\tcalculate and interpret a predicted P/E, given a cross-sectional regression on fundamentals, and explain limitations to the cross-sectional regression methodology\\n□\\tcalculate and interpret the justified price-to-earnings ratio (P/E), price-to-book ratio (P/B), and price-to-sales ratio (P/S) for a stock, based on forecasted fundamentals\\n□\\tcalculate and interpret the P/E-to-growth (PEG) ratio and explain its use in relative valuation\\n□\\tcalculate and explain the use of price multiples in determining terminal value in a multistage discounted cash flow (DCF) model\\n□\\tevaluate whether a stock is overvalued, fairly valued, or undervalued based on comparisons of multiples\\n□\\tevaluate a stock by the method of comparables and explain the importance of fundamentals in using the method of comparables\\n□\\texplain alternative definitions of cash flow used in price and enterprise value (EV) multiples and describe limitations of each definition\\n□\\tcalculate and interpret EV multiples and evaluate the use of EV/EBITDA\\n□\\texplain sources of differences in cross-border valuation comparisons\\n□\\tdescribe momentum indicators and their use in valuation\\n□\\texplain the use of the arithmetic mean, the harmonic mean, the weighted harmonic mean, and the median to describe the central tendency of a group of multiples\\nResidual Income Valuation\\nThe candidate should be able to:□\\tcalculate and interpret residual income, economic value added, and market value \\nadded\\n□\\tdescribe the uses of residual income models\\n□\\tcalculate the intrinsic value of a common stock using the residual income model and compare value recognition in residual income and other present value models\\n□\\texplain fundamental determinants of residual income\\n□\\texplain the relation between residual income valuation and the justified price-to-book ratio based on forecasted fundamentals\\n□\\tcalculate and interpret the intrinsic value of a common stock using single-stage (constant-growth) and multistage residual income models\\n□\\tcalculate the implied growth rate in residual income, given the market price-to-book ratio and an estimate of the required rate of return on equity\\n© CFA Institute. For candidate use only. Not for distribution.\\nEquity Valuation 14\\n□\\texplain continuing residual income and justify an estimate of continuing residual \\nincome at the forecast horizon, given company and industry prospects\\n□\\tcompare residual income models to dividend discount and free cash flow models\\n□\\texplain strengths and weaknesses of residual income models and justify the selection of a residual income model to value a company’s common stock\\n□\\tdescribe accounting issues in applying residual income models\\nPrivate Company Valuation\\nThe candidate should be able to:□\\tcontrast important public and private company features for valuation purposes\\n□\\tdescribe uses of private business valuation and explain key areas of focus for \\nfinancial analysts\\n□\\texplain cash flow estimation issues related to private companies and adjustments required to estimate normalized earnings\\n□\\texplain factors that require adjustment when estimating the discount rate for private companies\\n□\\tcompare models used to estimate the required rate of return to private company equity (for example, the CAPM, the expanded CAPM, and the build-up approach)\\n□\\texplain and evaluate the effects on private company valuations of discounts and premiums based on control and marketability\\n□\\texplain the income, market, and asset-based approaches to private company valuation and factors relevant to the selection of each approach \\n□\\tcalculate the value of a private company using income-based methods\\n□\\tcalculate the value of a private company using market-based methods and describe the advantages and disadvantages of each method\\n© CFA Institute. For candidate use only. Not for distribution.\\nFixed Income\\nLEARNING OUTCOMES\\nThe Term Structure and Interest Rate Dynamics\\nThe candidate should be able to:□\\tdescribe relationships among spot rates, forward rates, yield to maturity, \\nexpected and realized returns on bonds, and the shape of the yield curve\\n□\\tdescribe how zero-coupon rates (spot rates) may be obtained from the par curve by bootstrapping\\n□\\tdescribe the assumptions concerning the evolution of spot rates in relation to forward rates implicit in active bond portfolio management\\n□\\tdescribe the strategy of rolling down the yield curve\\n□\\texplain the swap rate curve and why and how market participants use it in valuation\\n□\\tcalculate and interpret the swap spread for a given maturity \\n□\\tdescribe short-term interest rate spreads used to gauge economy-wide credit risk and liquidity risk\\n□\\texplain traditional theories of the term structure of interest rates and describe the implications of each theory for forward rates and the shape of the yield curve\\n□\\texplain how a bond’s exposure to each of the factors driving the yield curve can be measured and how these exposures can be used to manage yield curve risks\\n□\\texplain the maturity structure of yield volatilities and their effect on price volatility\\n□\\texplain how key economic factors are used to establish a view on benchmark rates, spreads, and yield curve changes\\n© CFA Institute. For candidate use only. Not for distribution.\\nFixed Income 16\\nThe Arbitrage-Free Valuation Framework\\nThe candidate should be able to:□\\texplain what is meant by arbitrage-free valuation of a fixed-income instrument\\n□\\tcalculate the arbitrage-free value of an option-free, fixed-rate coupon bond\\n□\\tdescribe a binomial interest rate tree framework\\n□\\tdescribe the process of calibrating a binomial interest rate tree to match a \\nspecific term structure\\n□\\tdescribe the backward induction valuation methodology and calculate the value of a fixed-income instrument given its cash flow at each node\\n□\\tcompare pricing using the zero-coupon yield curve with pricing using an arbitrage-free binomial lattice\\n□\\tdescribe pathwise valuation in a binomial interest rate framework and calculate the value of a fixed-income instrument given its cash flows along each path\\n□\\tdescribe a Monte Carlo forward-rate simulation and its application\\n□\\tdescribe term structure models and how they are used\\nValuation and Analysis of Bonds with Embedded Options\\nThe candidate should be able to:□\\tdescribe fixed-income securities with embedded options\\n□\\texplain the relationships between the values of a callable or putable bond, the \\nunderlying option-free (straight) bond, and the embedded option\\n□\\tdescribe how the arbitrage-free framework can be used to value a bond with embedded options\\n□\\texplain how interest rate volatility affects the value of a callable or putable bond\\n□\\texplain how changes in the level and shape of the yield curve affect the value of a callable or putable bond\\n□\\tcalculate the value of a callable or putable bond from an interest rate tree\\n□\\texplain the calculation and use of option-adjusted spreads\\n□\\texplain how interest rate volatility affects option-adjusted spreads\\n□\\tcalculate and interpret effective duration of a callable or putable bond\\n□\\tcompare effective durations of callable, putable, and straight bonds\\n□\\tdescribe the use of one-sided durations and key rate durations to evaluate the interest rate sensitivity of bonds with embedded options\\n□\\tcompare effective convexities of callable, putable, and straight bonds\\n□\\tcalculate the value of a capped or floored floating-rate bond\\n□\\tdescribe defining features of a convertible bond\\n□\\tcalculate and interpret the components of a convertible bond’s value\\n□\\tdescribe how a convertible bond is valued in an arbitrage-free framework\\n□\\tcompare the risk–return characteristics of a convertible bond with the risk–return characteristics of a straight bond and of the underlying common stock\\nCredit Analysis Models\\nThe candidate should be able to:□\\texplain expected exposure, the loss given default, the probability of default, and \\nthe credit valuation adjustment\\n□\\texplain credit scores and credit ratings\\n□\\tcalculate the expected return on a bond given transition in its credit rating\\n□\\texplain structural and reduced-form models of corporate credit risk, including assumptions, strengths, and weaknesses\\n□\\tcalculate the value of a bond and its credit spread, given assumptions about the credit risk parameters\\n□\\tinterpret changes in a credit spread\\n© CFA Institute. For candidate use only. Not for distribution.\\n17 Fixed Income\\n□\\texplain the determinants of the term structure of credit spreads and interpret a \\nterm structure of credit spreads\\n□\\tcompare the credit analysis required for securitized debt to the credit analysis of corporate debt\\nCredit Default Swaps\\nThe candidate should be able to:□\\tdescribe credit default swaps (CDS), single-name and index CDS, and the \\nparameters that define a given CDS product\\n□\\tdescribe credit events and settlement protocols with respect to CDS\\n□\\texplain the principles underlying and factors that influence the market’s pricing of CDS\\n□\\tdescribe the use of CDS to manage credit exposures and to express views regarding changes in the shape and/or level of the credit curve\\n□\\tdescribe the use of CDS to take advantage of valuation disparities among separate markets, such as bonds, loans, equities, and equity-linked instruments\\n© CFA Institute. For candidate use only. Not for distribution.\\nDerivatives\\nLEARNING OUTCOMES\\nPricing and Valuation of Forward Commitments\\nThe candidate should be able to:□\\tdescribe how equity forwards and futures are priced, and calculate and interpret \\ntheir no-arbitrage value\\n□\\tdescribe the carry arbitrage model without underlying cashflows and with underlying cashflows\\n□\\tdescribe how interest rate forwards and futures are priced, and calculate and interpret their no-arbitrage value\\n□\\tdescribe how fixed-income forwards and futures are priced, and calculate and interpret their no-arbitrage value\\n□\\tdescribe how interest rate swaps are priced, and calculate and interpret their no-arbitrage value\\n□\\tdescribe how currency swaps are priced, and calculate and interpret their no-arbitrage value\\n□\\tdescribe how equity swaps are priced, and calculate and interpret their no-arbitrage value\\nValuation of Contingent Claims\\nThe candidate should be able to:□\\tdescribe and interpret the binomial option valuation model and its component \\nterms\\n□\\tdescribe how the value of a European option can be analyzed as the present value of the option’s expected payoff at expiration\\n© CFA Institute. For candidate use only. Not for distribution.\\n19 Derivatives\\n□\\tidentify an arbitrage opportunity involving options and describe the related \\narbitrage\\n□\\tcalculate the no-arbitrage values of European and American options using a two-period binomial model\\n□\\tcalculate and interpret the value of an interest rate option using a two-period binomial model\\n□\\tidentify assumptions of the Black–Scholes–Merton option valuation model\\n□\\tinterpret the components of the Black–Scholes–Merton model as applied to call options in terms of a leveraged position in the underlying\\n□\\tdescribe how the Black–Scholes–Merton model is used to value European options on equities and currencies\\n□\\tdescribe how the Black model is used to value European options on futures\\n□\\tdescribe how the Black model is used to value European interest rate options and European swaptions\\n□\\tinterpret each of the option Greeks\\n□\\tdescribe how a delta hedge is executed\\n□\\tdescribe the role of gamma risk in options trading\\n□\\tdefine implied volatility and explain how it is used in options trading\\n© CFA Institute. For candidate use only. Not for distribution.\\nAlternative Investments\\nLEARNING OUTCOMES\\nIntroduction to Commodities and Commodity Derivatives\\nThe candidate should be able to:□\\tcompare characteristics of commodity sectors\\n□\\tcompare the life cycle of commodity sectors from production through trading or \\nconsumption\\n□\\tcontrast the valuation of commodities with the valuation of equities and bonds\\n□\\tdescribe types of participants in commodity futures markets\\n□\\tanalyze the relationship between spot prices and futures prices in markets in contango and markets in backwardation\\n□\\tcompare theories of commodity futures returns\\n□\\tdescribe, calculate, and interpret the components of total return for a fully collateralized commodity futures contract\\n□\\tcontrast roll return in markets in contango and markets in backwardation\\n□\\tdescribe how commodity swaps are used to obtain or modify exposure to commodities\\n□\\tdescribe how the construction of commodity indexes affects index returns\\nOverview of Types of Real Estate Investment\\nThe candidate should be able to:□\\tcompare the characteristics, classifications, principal risks, and basic forms of \\npublic and private real estate investments\\n□\\texplain portfolio roles and economic value determinants of real estate investments\\n© CFA Institute. For candidate use only. Not for distribution.\\n21 Alternative Investments\\n□\\tdiscuss commercial property types, including their distinctive investment \\ncharacteristics\\n□\\texplain the due diligence process for both private and public equity real estate investment\\n□\\tdiscuss real estate investment indexes, including their construction and potential biases\\nInvestments in Real Estate through Publicly Traded Securities\\nThe candidate should be able to:□\\tdiscuss types of publicly traded real estate securities\\n□\\tjustify the use of net asset value per share (NAVPS) in valuation of publicly \\ntraded real estate securities and estimate NAVPS based on forecasted cash net operating income\\n□\\tdescribe the use of funds from operations (FFO) and adjusted funds from operations (AFFO) in REIT valuation\\n□\\tcalculate and interpret the value of a REIT share using the net asset value, relative value (price-to-FFO and price-to-AFFO), and discounted cash flow approaches\\n□\\texplain advantages and disadvantages of investing in real estate through publicly traded securities compared to private vehicles\\nHedge Fund Strategies\\nThe candidate should be able to:□\\tdiscuss how hedge fund strategies may be classified\\n□\\tdiscuss investment characteristics, strategy implementation, and role in a \\nportfolio of equity-related hedge fund strategies\\n□\\tdiscuss investment characteristics, strategy implementation, and role in a portfolio of event-driven hedge fund strategies\\n□\\tdiscuss investment characteristics, strategy implementation, and role in a portfolio of relative value hedge fund strategies\\n□\\tdiscuss investment characteristics, strategy implementation, and role in a portfolio of opportunistic hedge fund strategies\\n□\\tdiscuss investment characteristics, strategy implementation, and role in a portfolio of specialist hedge fund strategies\\n□\\tdiscuss investment characteristics, strategy implementation, and role in a portfolio of multi-manager hedge fund strategies\\n□\\tdescribe how factor models may be used to understand hedge fund risk exposures\\n□\\tevaluate the impact of an allocation to a hedge fund strategy in a traditional investment portfolio\\n© CFA Institute. For candidate use only. Not for distribution.\\nPortfolio Management\\nLEARNING OUTCOMES\\nExchange-Traded Funds: Mechanics and Applications\\nThe candidate should be able to:□\\texplain the creation/redemption process of ETFs and the function of authorized \\nparticipants\\n□\\tdescribe how ETFs are traded in secondary markets\\n□\\tdescribe sources of tracking error for ETFs\\n□\\tdescribe factors affecting ETF bid–ask spreads\\n□\\tdescribe sources of ETF premiums and discounts to NAV\\n□\\tdescribe costs of owning an ETF\\n□\\tdescribe types of ETF risk\\n□\\tidentify and describe portfolio uses of ETFs\\nUsing Multifactor Models\\nThe candidate should be able to:□\\tdescribe arbitrage pricing theory (APT), including its underlying assumptions \\nand its relation to multifactor models\\n□\\tdefine arbitrage opportunity and determine whether an arbitrage opportunity exists\\n□\\tcalculate the expected return on an asset given an asset’s factor sensitivities and the factor risk premiums\\n□\\tdescribe and compare macroeconomic factor models, fundamental factor models, and statistical factor models\\n□\\tdescribe uses of multifactor models and interpret the output of analyses based on multifactor models\\n© CFA Institute. For candidate use only. Not for distribution.\\n23 Portfolio Management\\n□\\tdescribe the potential benefits for investors in considering multiple risk \\ndimensions when modeling asset returns\\n□\\texplain sources of active risk and interpret tracking risk and the information ratio\\nMeasuring and Managing Market Risk\\nThe candidate should be able to:□\\texplain the use of value at risk (VaR) in measuring portfolio risk\\n□\\tcompare the parametric (variance–covariance), historical simulation, and Monte \\nCarlo simulation methods for estimating VaR\\n□\\testimate and interpret VaR under the parametric, historical simulation, and Monte Carlo simulation methods\\n□\\tdescribe advantages and limitations of VaR\\n□\\tdescribe extensions of VaR\\n□\\tdescribe sensitivity risk measures and scenario risk measures and compare these measures to VaR\\n□\\tdemonstrate how equity, fixed-income, and options exposure measures may be used in measuring and managing market risk and volatility risk\\n□\\tdescribe the use of sensitivity risk measures and scenario risk measures\\n□\\tdescribe advantages and limitations of sensitivity risk measures and scenario risk measures\\n□\\texplain constraints used in managing market risks, including risk budgeting, position limits, scenario limits, and stop-loss limits\\n□\\texplain how risk measures may be used in capital allocation decisions\\n□\\tdescribe risk measures used by banks, asset managers, pension funds, and insurers\\nBacktesting and Simulation\\nThe candidate should be able to:□\\tdescribe objectives in backtesting an investment strategy\\n□\\tdescribe and contrast steps and procedures in backtesting an investment \\nstrategy\\n□\\tinterpret metrics and visuals reported in a backtest of an investment strategy\\n□\\tidentify problems in a backtest of an investment strategy\\n□\\tevaluate and interpret a historical scenario analysis\\n□\\tcontrast Monte Carlo and historical simulation approaches\\n□\\texplain inputs and decisions in simulation and interpret a simulation; and\\n□\\tdemonstrate the use of sensitivity analysis\\nEconomics and Investment Markets\\nThe candidate should be able to:□\\texplain the notion that to affect market values, economic factors must affect one \\nor more of the following: 1) default-free interest rates across maturities, 2) the timing and/or magnitude of expected cash flows, and 3) risk premiums\\n□\\texplain the role of expectations and changes in expectations in market valuation\\n□\\texplain the relationship between the long-term growth rate of the economy, the volatility of the growth rate, and the average level of real short-term interest rates\\n□\\texplain how the phase of the business cycle affects policy and short-term interest rates, the slope of the term structure of interest rates, and the relative performance of bonds of differing maturities\\n© CFA Institute. For candidate use only. Not for distribution.\\n24 Portfolio Management\\n□\\tdescribe the factors that affect yield spreads between non-inflation-adjusted and \\ninflation-indexed bonds\\n□\\texplain how the phase of the business cycle affects credit spreads and the performance of credit-sensitive fixed-income instruments\\n□\\texplain how the characteristics of the markets for a company’s products affect the company’s credit quality\\n□\\texplain the relationship between the consumption hedging properties of equity and the equity risk premium\\n□\\texplain how the phase of the business cycle affects short-term and long-term earnings growth expectations\\n□\\tdescribe cyclical effects on valuation multiples\\n□\\tdescribe the economic factors affecting investment in commercial real estate\\nAnalysis of Active Portfolio Management\\nThe candidate should be able to:□\\tdescribe how value added by active management is measured\\n□\\tcalculate and interpret the information ratio (ex post and ex ante) and contrast it \\nto the Sharpe ratio\\n□\\tdescribe and interpret the fundamental law of active portfolio management, including its component terms—transfer coefficient, information coefficient, breadth, and active risk (aggressiveness)\\n□\\texplain how the information ratio may be useful in investment manager selection and choosing the level of active portfolio risk\\n□\\tcompare active management strategies, including market timing and security selection, and evaluate strategy changes in terms of the fundamental law of active management\\n□\\tdescribe the practical strengths and limitations of the fundamental law of active management\\n© CFA Institute. For candidate use only. Not for distribution.\\nEthical and Professional \\nStandards\\nLEARNING OUTCOMES\\nCode of Ethics and Standards of Professional Conduct\\nThe candidate should be able to:□\\tdescribe the six components of the Code of Ethics and the seven Standards of \\nProfessional Conduct\\n□\\texplain the ethical responsibilities required of CFA Institute members and candidates in the CFA Program by the Code and Standards\\nGuidance for Standards I–VII\\nThe candidate should be able to:□\\tdemonstrate a thorough knowledge of the CFA Institute Code of Ethics and \\nStandards of Professional Conduct by applying the Code and Standards to specific situations\\n□\\trecommend practices and procedures designed to prevent violations of the Code of Ethics and Standards of Professional Conduct\\nApplication of the Code and Standards: Level II\\nThe candidate should be able to:□\\tevaluate practices, policies, and conduct relative to the CFA Institute Code of \\nEthics and Standards of Professional Conduct\\n□\\texplain how the practices, policies, and conduct do or do not violate the CFA Institute Code of Ethics and Standards of Professional Conduct\\n© CFA Institute. For candidate use only. Not for distribution.\\n'"
      ]
     },
     "execution_count": 147,
     "metadata": {},
     "output_type": "execute_result"
    }
   ],
   "source": [
    "pypdf_extraction(pdf_files)"
   ]
  },
  {
   "cell_type": "markdown",
   "metadata": {},
   "source": [
    "### PDF EXTRACTION USING GROBID"
   ]
  },
  {
   "cell_type": "code",
   "execution_count": 148,
   "metadata": {},
   "outputs": [],
   "source": [
    "from grobid_client.grobid_client import GrobidClient\n",
    "import os\n",
    "import re\n",
    "import csv\n",
    "import xml.etree.ElementTree as ET\n",
    "from lxml import etree "
   ]
  },
  {
   "cell_type": "code",
   "execution_count": 149,
   "metadata": {},
   "outputs": [],
   "source": [
    "def process_pdfs(input_directory, output_directory):\n",
    "    client = GrobidClient(config_path=\"./config.json\")\n",
    "    client.process(\"processFulltextDocument\", input_directory, output_directory, n=1, \n",
    "                   consolidate_header=True, consolidate_citations=True, include_raw_citations=True,\n",
    "                   include_raw_affiliations=True,force=True)"
   ]
  },
  {
   "cell_type": "code",
   "execution_count": 150,
   "metadata": {},
   "outputs": [],
   "source": [
    "def xml_to_text_and_metadata(xml_string):\n",
    "    root = ET.fromstring(xml_string)\n",
    "    text = \"\"\n",
    "\n",
    "    for elem in root.iter():\n",
    "        if elem.text:\n",
    "                # Extract text content\n",
    "                text += elem.text + \"\\n\"\n",
    "    return text.strip()"
   ]
  },
  {
   "cell_type": "code",
   "execution_count": 151,
   "metadata": {},
   "outputs": [],
   "source": [
    "def extract_tei_metadata(tei_file):\n",
    "    \"\"\"\n",
    "    Extract TEI metadata including TEI Header, File Description, version, and encoding.\n",
    "    \"\"\"\n",
    "    metadata = {}\n",
    "    try:\n",
    "        tree = etree.parse(tei_file)\n",
    "        root = tree.getroot()\n",
    "\n",
    "        # Extract TEI Header metadata\n",
    "        tei_header = root.find(\".//{http://www.tei-c.org/ns/1.0}teiHeader\")\n",
    "        if tei_header is not None:\n",
    "            metadata['language'] = tei_header.get('{http://www.w3.org/XML/1998/namespace}lang')\n",
    "\n",
    "        # Extract version and encoding\n",
    "        with open(tei_file, 'r', encoding='utf-8') as f:\n",
    "            first_line = f.readline()\n",
    "            match = re.match(r'^<\\?xml\\s+version\\s*=\\s*([\"\\'])(.*?)\\1\\s+encoding\\s*=\\s*([\"\\'])(.*?)\\3.*\\?>', first_line)\n",
    "            if match:\n",
    "                metadata['version'] = match.group(2)\n",
    "                metadata['encoding'] = match.group(4)\n",
    "\n",
    "    except Exception as e:\n",
    "        print(f\"Error occurred while processing {tei_file}: {e}\")\n",
    "\n",
    "    return metadata"
   ]
  },
  {
   "cell_type": "code",
   "execution_count": 152,
   "metadata": {},
   "outputs": [],
   "source": [
    "def write_metadata_to_csv(metadata_list, output_file):\n",
    "    \"\"\"\n",
    "    Write metadata to a CSV file.\n",
    "    \"\"\"\n",
    "    fieldnames = ['filename', 'language', 'version', 'encoding']\n",
    "    with open(output_file, 'w', newline='', encoding='utf-8') as csvfile:\n",
    "        writer = csv.DictWriter(csvfile, fieldnames=fieldnames)\n",
    "        writer.writeheader()\n",
    "        writer.writerows(metadata_list)"
   ]
  },
  {
   "cell_type": "code",
   "execution_count": 153,
   "metadata": {},
   "outputs": [
    {
     "name": "stdout",
     "output_type": "stream",
     "text": [
      "GROBID server is up and running\n",
      "Extracted text from 2024-l3-topics-combined-2.pdf to Grobid_RR_2024_l3_combined.txt\n",
      "Extracted text from 2024-l1-topics-combined-2.pdf to Grobid_RR_2024_l1_combined.txt\n",
      "Extracted text from 2024-l2-topics-combined-2.pdf to Grobid_RR_2024_l2_combined.txt\n"
     ]
    }
   ],
   "source": [
    "import os\n",
    "\n",
    "if __name__ == \"__main__\":\n",
    "    input_directory = \"./input-files/\"\n",
    "    output_directory = \"./grobid/\"\n",
    "    \n",
    "    try:\n",
    "        os.makedirs(output_directory, exist_ok=True)\n",
    "        \n",
    "        # Process PDF files using Grobid\n",
    "        process_pdfs(input_directory, output_directory)\n",
    "        \n",
    "        metadata_list = []  # Initialize an empty list to store metadata\n",
    "            \n",
    "        # Convert XML output to text and metadata for each PDF file\n",
    "        for pdf_filename in os.listdir(input_directory):\n",
    "            if pdf_filename.endswith(\".pdf\"):\n",
    "                # Extract year and level from the PDF file name\n",
    "                year, level = pdf_filename.split(\"-\")[:2]\n",
    "                \n",
    "                # Generate file names\n",
    "                xml_file_name = f\"Grobid_RR_{year}_{level}_combined.xml\"\n",
    "                txt_file_name = f\"Grobid_RR_{year}_{level}_combined.txt\"\n",
    "                \n",
    "                xml_file_path = os.path.join(output_directory, f\"{year}-{level}-topics-combined-2.grobid.tei.xml\")\n",
    "\n",
    "                #Extract metadata\n",
    "                metadata = extract_tei_metadata(xml_file_path)\n",
    "                metadata['filename'] = xml_file_name\n",
    "                metadata_list.append(metadata)\n",
    "\n",
    "                # Rename XML file and get its content\n",
    "                os.rename(xml_file_path, os.path.join(output_directory, xml_file_name))\n",
    "\n",
    "                with open(os.path.join(output_directory, xml_file_name), \"r\", encoding=\"utf-8\") as xml_file:\n",
    "                    xml_content = xml_file.read()\n",
    "\n",
    "                # Convert XML to text with metadata\n",
    "                text_content = xml_to_text_and_metadata(xml_content)\n",
    "            \n",
    "                # Write text content to .txt file\n",
    "                with open(os.path.join(output_directory, txt_file_name), \"w\", encoding=\"utf-8\") as txt_file:\n",
    "                    txt_file.write(text_content)\n",
    "                \n",
    "                \n",
    "                # Remove XML file after converting to text\n",
    "                os.remove(os.path.join(output_directory, xml_file_name))\n",
    "                \n",
    "                # Print information\n",
    "                print(f\"Extracted text from {pdf_filename} to {txt_file_name}\")\n",
    "\n",
    "        # Store metadata in a .csv file\n",
    "        write_metadata_to_csv(metadata_list, '../cloud-storage-integration/metadata-grobid.csv')\n",
    "\n",
    "    except Exception as e:\n",
    "        print(f\"An error occurred: {e}\")"
   ]
  }
 ],
 "metadata": {
  "kernelspec": {
   "display_name": "Python 3",
   "language": "python",
   "name": "python3"
  },
  "language_info": {
   "codemirror_mode": {
    "name": "ipython",
    "version": 3
   },
   "file_extension": ".py",
   "mimetype": "text/x-python",
   "name": "python",
   "nbconvert_exporter": "python",
   "pygments_lexer": "ipython3",
   "version": "3.11.4"
  }
 },
 "nbformat": 4,
 "nbformat_minor": 2
}
