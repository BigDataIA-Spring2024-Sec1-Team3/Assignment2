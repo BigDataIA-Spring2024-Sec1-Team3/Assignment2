{
 "cells": [
  {
   "cell_type": "markdown",
   "metadata": {},
   "source": [
    "### FILE UPLOAD TO SNOWFLAKE USING SQLALCHEMY"
   ]
  },
  {
   "cell_type": "code",
   "execution_count": 22,
   "metadata": {},
   "outputs": [],
   "source": [
    "from sqlalchemy import create_engine, text"
   ]
  },
  {
   "cell_type": "markdown",
   "metadata": {},
   "source": [
    "##### Functions to create snowflake connection, internal staging, creating table, staging data and loading staged data to Snowflake database"
   ]
  },
  {
   "cell_type": "code",
   "execution_count": 23,
   "metadata": {},
   "outputs": [],
   "source": [
    "import configparser\n",
    "config = configparser.ConfigParser()\n",
    "config.read('../configuration.properties')\n",
    "\n",
    "user = config['SNOWFLAKE']['User']\n",
    "password = config['SNOWFLAKE']['Password']\n",
    "account = config['SNOWFLAKE']['Account']\n",
    "warehouse = config['SNOWFLAKE']['Warehouse']\n",
    "database = config['SNOWFLAKE']['Database']\n",
    "schema = config['SNOWFLAKE']['Schema']\n",
    "\n",
    "# Create a connection string\n",
    "connection_string = f'snowflake://{user}:{password}@{account}/' \\\n",
    "                        f'?warehouse={warehouse}&database={database}&schema={schema}'"
   ]
  },
  {
   "cell_type": "code",
   "execution_count": 24,
   "metadata": {},
   "outputs": [],
   "source": [
    "def create_internal_stage(engine, stage_name):\n",
    "    create_stage_query = f\"\"\"\n",
    "    CREATE STAGE IF NOT EXISTS {stage_name};\n",
    "    \"\"\"\n",
    "    with engine.connect() as connection:\n",
    "        connection.execute(text(create_stage_query))"
   ]
  },
  {
   "cell_type": "code",
   "execution_count": 25,
   "metadata": {},
   "outputs": [],
   "source": [
    "def create_table_with_csv_structure(engine, table_name):\n",
    "    create_table_query = f\"\"\"\n",
    "    CREATE OR REPLACE TABLE {table_name} (\n",
    "        topic_name STRING,\n",
    "        year STRING,\n",
    "        level STRING,\n",
    "        introduction STRING,\n",
    "        learning_outcome STRING,\n",
    "        summary STRING,\n",
    "        summary_page_link STRING,\n",
    "        pdf_file_Link STRING\n",
    "    );\n",
    "    \"\"\"\n",
    "    with engine.connect() as connection:\n",
    "        connection.execute(text(create_table_query))"
   ]
  },
  {
   "cell_type": "code",
   "execution_count": 26,
   "metadata": {},
   "outputs": [],
   "source": [
    "def put_data_into_stage(engine, csv_file_path, stage_name):\n",
    "    put_data_query = f\"\"\"\n",
    "    PUT file://{csv_file_path} @{stage_name};\n",
    "    \"\"\"\n",
    "    with engine.connect() as connection:\n",
    "        connection.execute(text(put_data_query))"
   ]
  },
  {
   "cell_type": "code",
   "execution_count": 27,
   "metadata": {},
   "outputs": [],
   "source": [
    "def creating_file_format(engine, ff_name):\n",
    "    create_ff_query = f\"\"\"\n",
    "    CREATE OR REPLACE FILE FORMAT {ff_name}\n",
    "    TYPE = 'CSV'\n",
    "    FIELD_DELIMITER = '\\t'\n",
    "    SKIP_HEADER = 1\n",
    "    SKIP_BLANK_LINES = True\n",
    "    TRIM_SPACE = True;\n",
    "    \"\"\"\n",
    "    with engine.connect() as connection:\n",
    "        connection.execute(text(create_ff_query))"
   ]
  },
  {
   "cell_type": "code",
   "execution_count": 28,
   "metadata": {},
   "outputs": [],
   "source": [
    "def load_data_from_stage_to_table(engine, table_name, stage_name, ff_name):\n",
    "    copy_into_query = f\"\"\"\n",
    "    COPY INTO {table_name} FROM @{stage_name} FILE_FORMAT = (FORMAT_NAME = {ff_name});\n",
    "    \"\"\"\n",
    "    print(copy_into_query)\n",
    "    with engine.connect() as connection:\n",
    "        connection.execute(text(copy_into_query))"
   ]
  },
  {
   "cell_type": "markdown",
   "metadata": {},
   "source": [
    "Steps to upload data to Snowflake Database:  \n",
    "1. Create an engine for Snowflake connection  \n",
    "2. Create an internal stage in Snowflake  \n",
    "3. Create a table with reference to CSV structure  \n",
    "4. Put data into stage  \n",
    "5. Load data from stage to table using COPY INTO command"
   ]
  },
  {
   "cell_type": "code",
   "execution_count": null,
   "metadata": {},
   "outputs": [],
   "source": [
    "# Create an engine for Snowflake Connection\n",
    "engine = create_engine(connection_string)\n",
    "\n",
    "# Create an internal stage in Snowflake\n",
    "stage_name = 'refresher_readings_internal_stage'\n",
    "create_internal_stage(engine, stage_name)\n",
    "\n",
    "# Create a table\n",
    "table_name = 'refresher_readings'\n",
    "csv_file_path = '../web-scraping-and-dataset/scraped_data.csv'\n",
    "create_table_with_csv_structure(engine, table_name)\n",
    "\n",
    "# create file format\n",
    "ff_name= 'refresher_data_ff'\n",
    "creating_file_format(engine, ff_name)\n",
    "\n",
    "# Stage the data\n",
    "put_data_into_stage(engine, csv_file_path, stage_name)\n",
    "\n",
    "# Load data from stage to table \n",
    "load_data_from_stage_to_table(engine, table_name, stage_name, ff_name)"
   ]
  }
 ],
 "metadata": {
  "kernelspec": {
   "display_name": "venv",
   "language": "python",
   "name": "python3"
  },
  "language_info": {
   "codemirror_mode": {
    "name": "ipython",
    "version": 3
   },
   "file_extension": ".py",
   "mimetype": "text/x-python",
   "name": "python",
   "nbconvert_exporter": "python",
   "pygments_lexer": "ipython3",
   "version": "3.11.5"
  },
  "orig_nbformat": 4
 },
 "nbformat": 4,
 "nbformat_minor": 2
}
