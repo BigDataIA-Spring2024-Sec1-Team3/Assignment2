{
 "cells": [
  {
   "cell_type": "markdown",
   "metadata": {},
   "source": [
    "## IMPORT LIBRARIES"
   ]
  },
  {
   "cell_type": "code",
   "execution_count": 1,
   "metadata": {},
   "outputs": [],
   "source": [
    "from diagrams import Diagram, Cluster\n",
    "from diagrams.programming.language import Python\n",
    "from diagrams.custom import Custom\n",
    "from diagrams.aws.storage import S3\n",
    "from diagrams.generic.database import SQL\n",
    "from diagrams.saas.analytics import Snowflake"
   ]
  },
  {
   "cell_type": "code",
   "execution_count": 15,
   "metadata": {},
   "outputs": [],
   "source": [
    "# Adjust these Graphviz attributes to increase diagram size, node spacing, etc.\n",
    "graph_attr = {\n",
    "    \"fontsize\": \"10\"\n",
    "}\n",
    "\n",
    "filename = \"flow_diagram\""
   ]
  },
  {
   "cell_type": "markdown",
   "metadata": {},
   "source": [
    "## FLOW DIAGRAM CREATION"
   ]
  },
  {
   "cell_type": "code",
   "execution_count": 16,
   "metadata": {},
   "outputs": [],
   "source": [
    "def create_flow_diagram():\n",
    "    try:\n",
    "        with Diagram(\"Flow Diagram\", filename=filename, show=False, direction=\"LR\", graph_attr=graph_attr):\n",
    "            website = Custom(\"Website\", \"./input_icons/website.png\")\n",
    "            local_storage_1 = Custom(\"Local Storage\", \"./input_icons/local_storage.png\")\n",
    "\n",
    "            with Cluster(\"Data Extraction\"):\n",
    "                web_scraping = Python(\"Web Scraping\")\n",
    "                pdf_text_extraction = Python(\n",
    "                    \"PDF Text Extraction\\n using PyPDF & Grobid\")\n",
    "\n",
    "            local_storage_2 = Custom(\"Local Storage\", \"./input_icons/local_storage.png\")\n",
    "\n",
    "            with Cluster(\"Data Loading\"):\n",
    "                csv_data_upload = Python(\n",
    "                    \"CSV Data upload\\n to Snowflake\")\n",
    "                all_files_upload = Python(\n",
    "                    \"All files upload to S3\\n and grobid metadata\\n to Snowflake\")\n",
    "\n",
    "            snowflake = Snowflake(\"Snowflake\")\n",
    "            s3_bucket = S3(\"S3 Bucket\")\n",
    "    \n",
    "            website >> web_scraping\n",
    "            local_storage_1 >> pdf_text_extraction\n",
    "\n",
    "            web_scraping >> local_storage_2\n",
    "            pdf_text_extraction >> local_storage_2\n",
    "\n",
    "            local_storage_2 >> csv_data_upload\n",
    "            local_storage_2 >> all_files_upload\n",
    "\n",
    "            csv_data_upload >> snowflake\n",
    "            all_files_upload >> snowflake\n",
    "            all_files_upload >> s3_bucket\n",
    "    except Exception as e:\n",
    "        print(\"Exception: \",e)\n",
    "    "
   ]
  },
  {
   "cell_type": "code",
   "execution_count": 17,
   "metadata": {},
   "outputs": [],
   "source": [
    "create_flow_diagram()"
   ]
  }
 ],
 "metadata": {
  "kernelspec": {
   "display_name": "Python 3",
   "language": "python",
   "name": "python3"
  },
  "language_info": {
   "codemirror_mode": {
    "name": "ipython",
    "version": 3
   },
   "file_extension": ".py",
   "mimetype": "text/x-python",
   "name": "python",
   "nbconvert_exporter": "python",
   "pygments_lexer": "ipython3",
   "version": "3.11.5"
  }
 },
 "nbformat": 4,
 "nbformat_minor": 2
}
